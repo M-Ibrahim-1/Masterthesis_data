{
 "cells": [
  {
   "cell_type": "markdown",
   "metadata": {},
   "source": [
    "# Passengers configurations"
   ]
  },
  {
   "cell_type": "code",
   "execution_count": 2,
   "metadata": {},
   "outputs": [],
   "source": [
    "# Vehicle = sm_car_vehcfg_setPeopleOnOff(Vehicle,[1 1 0 0 0],'SuspA1');"
   ]
  },
  {
   "cell_type": "markdown",
   "metadata": {},
   "source": [
    "<hr>"
   ]
  },
  {
   "cell_type": "markdown",
   "metadata": {},
   "source": [
    "# adjusting the linearity of the dampers and springes"
   ]
  },
  {
   "cell_type": "code",
   "execution_count": 3,
   "metadata": {},
   "outputs": [],
   "source": [
    "# Vehicle = sm_car_vehcfg_setSpring(Vehicle,'Axle2_Independent','SHLnonlinA1_SHLnonlinA2_None');\n",
    "# Vehicle = sm_car_vehcfg_setDamper(Vehicle,'Axle2_Independent','SHLnonlinA1_SHLnonlinA2_None');"
   ]
  },
  {
   "cell_type": "markdown",
   "metadata": {},
   "source": [
    "<hr>"
   ]
  },
  {
   "cell_type": "markdown",
   "metadata": {},
   "source": [
    "# Configure Vehicle"
   ]
  },
  {
   "cell_type": "markdown",
   "metadata": {},
   "source": [
    "<hr>"
   ]
  },
  {
   "cell_type": "code",
   "execution_count": 5,
   "metadata": {},
   "outputs": [],
   "source": [
    "# sm_car_config_maneuver('sm_car','Low Speed Steer');"
   ]
  },
  {
   "cell_type": "markdown",
   "metadata": {},
   "source": [
    "<hr>"
   ]
  },
  {
   "cell_type": "markdown",
   "metadata": {},
   "source": [
    "# Run Simulation"
   ]
  },
  {
   "cell_type": "code",
   "execution_count": 6,
   "metadata": {},
   "outputs": [],
   "source": [
    "# sim(mdl)"
   ]
  },
  {
   "cell_type": "markdown",
   "metadata": {},
   "source": [
    "<hr>"
   ]
  },
  {
   "cell_type": "code",
   "execution_count": 7,
   "metadata": {},
   "outputs": [],
   "source": [
    "# driver FL_FR_RL_RR\n",
    "Passengers_map = {'[1 1 0 0 0]':'FL',\n",
    "                  '[1 1 1 0 0]':'FL_FR',\n",
    "                  '[1 1 0 1 0]':'FL_RL',\n",
    "                  '[1 1 0 0 1]':'FL_RR',\n",
    "                  '[1 1 1 1 0]':'FL_FR_RL',\n",
    "                  '[1 1 1 0 1]':'FL_FR_RR',\n",
    "                  '[1 1 0 1 1]':'FL_RL_RR',\n",
    "                  '[1 1 1 1 1]':'FL_FR_RL_RR'}\n",
    "\n",
    "Maneuvers_m = [\"'Double Lane Change'\", \"'WOT Braking'\", \"'Low Speed Steer'\", \"'Turn'\", \"'Straight Constant Speed'\", \"'Constant Radius Closed-Loop'\", \"'Double Lane Change ISO3888'\"]"
   ]
  },
  {
   "cell_type": "markdown",
   "metadata": {},
   "source": [
    "<hr>"
   ]
  },
  {
   "cell_type": "markdown",
   "metadata": {},
   "source": [
    "# Generate .txt file with name of all samples"
   ]
  },
  {
   "cell_type": "code",
   "execution_count": 8,
   "metadata": {},
   "outputs": [],
   "source": [
    "i = 0\n",
    "with open('names_of_files.txt', 'w') as fout:\n",
    "    for Maneuver in Maneuvers_m:\n",
    "        for passenger_compination in Passengers_map.keys():\n",
    "            m = Maneuver.replace('\"','').replace(' ','').replace(\"'\",\"\")\n",
    "            sample=f'{i}_{m}_{Passengers_map[passenger_compination]}\\n'\n",
    "            #print(sample)\n",
    "            fout.writelines(sample)\n",
    "            i +=1"
   ]
  },
  {
   "cell_type": "markdown",
   "metadata": {},
   "source": [
    "# Generate Matlab Design of experiment script.m file"
   ]
  },
  {
   "cell_type": "code",
   "execution_count": 9,
   "metadata": {},
   "outputs": [],
   "source": [
    "i = 0\n",
    "with open(\"doe_matlab_script.m\", \"w\") as fout:\n",
    "    for Maneuver in Maneuvers_m:\n",
    "        for passenger_compination in Passengers_map.keys():\n",
    "            fout.writelines(\"mdl = 'sm_car';\\n\")\n",
    "            fout.writelines(\"Vehicle = sm_car_vehcfg_setBrakes(Vehicle,'Axle2_HydraulicValves_Channel4_Sedan_Hamba');\\n\")\n",
    "            fout.writelines(\"sm_car_config_control_brake('sm_car',0);\\n\")\n",
    "            fout.writelines(\"Vehicle = sm_car_vehcfg_setSpring(Vehicle,'Axle2_Independent','SHLnonlinA1_SHLnonlinA2_None');\\n\")\n",
    "            fout.writelines(\"Vehicle = sm_car_vehcfg_setDamper(Vehicle,'Axle2_Independent','SHLnonlinA1_SHLnonlinA2_None');\\n\")\n",
    "            fout.writelines(f\"sm_car_config_maneuver('sm_car',{Maneuver});\\n\")\n",
    "            fout.writelines(f\"Vehicle = sm_car_vehcfg_setPeopleOnOff(Vehicle,{passenger_compination},'SuspA1');\\n\")\n",
    "            fout.writelines(\"sim(mdl)\\n\")\n",
    "            fout.writelines(\"pause(60)\\n\\n\")\n",
    "            i +=1"
   ]
  }
 ],
 "metadata": {
  "kernelspec": {
   "display_name": "Python 3",
   "language": "python",
   "name": "python3"
  },
  "language_info": {
   "codemirror_mode": {
    "name": "ipython",
    "version": 3
   },
   "file_extension": ".py",
   "mimetype": "text/x-python",
   "name": "python",
   "nbconvert_exporter": "python",
   "pygments_lexer": "ipython3",
   "version": "3.9.7"
  },
  "orig_nbformat": 4
 },
 "nbformat": 4,
 "nbformat_minor": 2
}
