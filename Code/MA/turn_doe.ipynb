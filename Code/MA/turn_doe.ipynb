{
 "cells": [
  {
   "cell_type": "markdown",
   "metadata": {},
   "source": [
    "# Motors"
   ]
  },
  {
   "cell_type": "code",
   "execution_count": 1,
   "metadata": {},
   "outputs": [],
   "source": [
    "# Vehicle = sm_car_vehcfg_setPower(Vehicle,'Ideal_A1_A2_default');\n",
    "# Vehicle = sm_car_vehcfg_setPowerCooling(Vehicle,'None');"
   ]
  },
  {
   "cell_type": "markdown",
   "metadata": {},
   "source": [
    "<hr>"
   ]
  },
  {
   "cell_type": "markdown",
   "metadata": {},
   "source": [
    "# Passengers configurations"
   ]
  },
  {
   "cell_type": "code",
   "execution_count": 2,
   "metadata": {},
   "outputs": [],
   "source": [
    "# Vehicle = sm_car_vehcfg_setPeopleOnOff(Vehicle,[1 1 0 0 0],'SuspA1');"
   ]
  },
  {
   "cell_type": "markdown",
   "metadata": {},
   "source": [
    "<hr>"
   ]
  },
  {
   "cell_type": "markdown",
   "metadata": {},
   "source": [
    "# adjusting the linearity of the dampers and springes"
   ]
  },
  {
   "cell_type": "code",
   "execution_count": 3,
   "metadata": {},
   "outputs": [],
   "source": [
    "# Vehicle = sm_car_vehcfg_setSpring(Vehicle,'Axle2_Independent','SHLnonlinA1_SHLnonlinA2_None');\n",
    "# Vehicle = sm_car_vehcfg_setDamper(Vehicle,'Axle2_Independent','SHLnonlinA1_SHLnonlinA2_None');"
   ]
  },
  {
   "cell_type": "markdown",
   "metadata": {},
   "source": [
    "<hr>"
   ]
  },
  {
   "cell_type": "markdown",
   "metadata": {},
   "source": [
    "# Configure Vehicle"
   ]
  },
  {
   "cell_type": "code",
   "execution_count": 4,
   "metadata": {},
   "outputs": [],
   "source": [
    "# sm_car_config_vehicle('sm_car');"
   ]
  },
  {
   "cell_type": "markdown",
   "metadata": {},
   "source": [
    "<hr>"
   ]
  },
  {
   "cell_type": "code",
   "execution_count": 5,
   "metadata": {},
   "outputs": [],
   "source": [
    "# sm_car_config_maneuver('sm_car','WOT Braking');\n",
    "# sm_car_config_maneuver('sm_car','Low Speed Steer');\n",
    "# sm_car_config_maneuver('sm_car','Turn');\n",
    "# sm_car_config_maneuver('sm_car','Straight Constant Speed');\n",
    "# sm_car_config_maneuver('sm_car','Constant Radius Closed-Loop');\n",
    "# sm_car_config_maneuver('sm_car','Double Lane Change');\n",
    "# sm_car_config_maneuver('sm_car','Double Lane Change ISO3888');"
   ]
  },
  {
   "cell_type": "markdown",
   "metadata": {},
   "source": [
    "<hr>"
   ]
  },
  {
   "cell_type": "markdown",
   "metadata": {},
   "source": [
    "# Run Simulation"
   ]
  },
  {
   "cell_type": "code",
   "execution_count": 6,
   "metadata": {},
   "outputs": [],
   "source": [
    "# sim(mdl)"
   ]
  },
  {
   "cell_type": "markdown",
   "metadata": {},
   "source": [
    "<hr>"
   ]
  },
  {
   "cell_type": "code",
   "execution_count": 9,
   "metadata": {},
   "outputs": [],
   "source": [
    "# driver FL_FR_RL_RR\n",
    "Passengers_map = {'[1 1 0 0 0]':'FL',\n",
    "                  '[1 1 1 0 0]':'FL_FR',\n",
    "                  '[1 1 0 1 0]':'FL_RL',\n",
    "                  '[1 1 0 0 1]':'FL_RR',\n",
    "                  '[1 1 1 1 0]':'FL_FR_RL',\n",
    "                  '[1 1 1 0 1]':'FL_FR_RR',\n",
    "                  '[1 1 0 1 1]':'FL_RL_RR',\n",
    "                  '[1 1 1 1 1]':'FL_FR_RL_RR'}\n",
    "\n",
    "Maneuvers_m = [\"'Double Lane Change'\", \"'WOT Braking'\", \"'Low Speed Steer'\", \"'Turn'\", \"'Straight Constant Speed'\", \"'Constant Radius Closed-Loop'\", \"'Double Lane Change ISO3888'\"]"
   ]
  },
  {
   "cell_type": "markdown",
   "metadata": {},
   "source": [
    "we need to manually excecute the command by mouse in matlab to know what line of code is scripted in the interactive shell of matlab\n",
    "we then take this line and modify it to\n",
    "the following script creates a full factorial desing of experiment and it exports it in a form .m script file that should be excecuted in matlab"
   ]
  },
  {
   "cell_type": "markdown",
   "metadata": {},
   "source": [
    "<hr>"
   ]
  },
  {
   "cell_type": "markdown",
   "metadata": {},
   "source": [
    "# Generate .txt file with name of all samples"
   ]
  },
  {
   "cell_type": "code",
   "execution_count": 8,
   "metadata": {},
   "outputs": [],
   "source": [
    "# i = 0\n",
    "# with open('names_of_files.txt', 'w') as fout:\n",
    "#         for passenger_compination in Passengers_map.keys():\n",
    "#             m = 'low_spd_ster'\n",
    "#             sample=f'{i}_{m}_{Passengers_map[passenger_compination]}_{Accel_pedal}_{}\\n'\n",
    "#             #print(sample)\n",
    "#             fout.writelines(sample)\n",
    "#             i +=1"
   ]
  },
  {
   "cell_type": "code",
   "execution_count": 10,
   "metadata": {},
   "outputs": [],
   "source": [
    "import numpy as np\n",
    "from pyDOE2 import lhs\n",
    "\n",
    "def latin_hypercube_sampling(n, ranges):\n",
    "    num_vars = len(ranges)\n",
    "    samples = lhs(num_vars, samples=n, criterion= 'maximin')\n",
    "    for i in range(num_vars):\n",
    "        lower_bound, upper_bound = ranges[i]\n",
    "        samples[:, i] = samples[:, i] * (upper_bound - lower_bound) + lower_bound\n",
    "    return samples\n",
    "\n",
    "# Define the ranges for each variable\n",
    "# Acceleration_Pedal_Pos_range = (0, 1)\n",
    "# Steering_Angle_range = (-2, 2)\n",
    "\n",
    "# # Combine the ranges into a list\n",
    "# ranges = [Acceleration_Pedal_Pos_range, Steering_Angle_range]\n",
    "\n",
    "# # Number of sample points\n",
    "# n = 50  # You can adjust this to the desired number of samples\n",
    "\n",
    "# # Generate the Latin Hypercube samples\n",
    "# lhs_samples = latin_hypercube_sampling(n, ranges)\n",
    "\n",
    "# # Print the generated samples\n",
    "# for i, sample in enumerate(lhs_samples):\n",
    "#     print(f'Sample {i + 1}: Acceleration_Pedal_Pos = {sample[0]}, Steering_Angle = {sample[1]}')\n"
   ]
  },
  {
   "cell_type": "code",
   "execution_count": 10,
   "metadata": {},
   "outputs": [],
   "source": [
    "# accel untill 0.5 was okay"
   ]
  },
  {
   "cell_type": "code",
   "execution_count": 5,
   "metadata": {},
   "outputs": [
    {
     "data": {
      "image/png": "[encoded data removed]",
      "text/plain": [
       "<Figure size 640x480 with 1 Axes>"
      ]
     },
     "metadata": {},
     "output_type": "display_data"
    }
   ],
   "source": [
    "import matplotlib.pyplot as plt\n",
    "# Define the ranges for each variable\n",
    "Acceleration_Pedal_Pos_range = (0.1, 0.70)\n",
    "Steering_Angle_range = (-1.2, 1.2)\n",
    "\n",
    "# Combine the ranges into a list\n",
    "ranges = [Acceleration_Pedal_Pos_range, Steering_Angle_range]\n",
    "\n",
    "# Number of sample points\n",
    "n = 10  # You can adjust this to the desired number of samples\n",
    "\n",
    "# Generate the Latin Hypercube samples\n",
    "lhs_samples = latin_hypercube_sampling(n, ranges)\n",
    "fig, ax = plt.subplots()\n",
    "ax.scatter(lhs_samples[:, 0], lhs_samples[:, 1])\n",
    "# Add labels and a title\n",
    "plt.xlabel('Acceleration Pedal Position')\n",
    "plt.ylabel('Steering Angle')\n",
    "plt.title('Latin Hyper Cube Samples for Low Speed Steer Maneuver')\n",
    "\n",
    "# Show the plot\n",
    "plt.show()"
   ]
  },
  {
   "cell_type": "markdown",
   "metadata": {},
   "source": [
    "<hr>"
   ]
  },
  {
   "cell_type": "markdown",
   "metadata": {},
   "source": [
    "# Generate Matlab Design of experiment script.m file"
   ]
  },
  {
   "cell_type": "code",
   "execution_count": 11,
   "metadata": {},
   "outputs": [],
   "source": [
    "i = 0\n",
    "with open('names_of_files_turn.txt', 'w') as fout_1:\n",
    "    m = 'Turn'\n",
    "    with open(f\"doe_matlab_script_{m}.m\", \"w\") as fout:\n",
    "        for passenger_compination, passenger_compination_str in Passengers_map.items():\n",
    "            fout.writelines(f\"log_file = fopen('log_file_{m}.txt', 'w');\\n\")\n",
    "            for sample in lhs_samples:\n",
    "                i += 1\n",
    "                acceleration_pedal_pos = sample[0]\n",
    "                steering_angle = sample[1]\n",
    "                # writing the name of the sample in a seperate file to rename it later\n",
    "                sample=f'{i}_{m}_{passenger_compination_str}\\n'\n",
    "                fout_1.writelines(sample)\n",
    "                # Initializing the model\n",
    "                fout.writelines(\"mdl = 'sm_car';\\n\")\n",
    "                # Setting brakes to have ABS\n",
    "                fout.writelines(\"Vehicle = sm_car_vehcfg_setBrakes(Vehicle,'Axle2_HydraulicValves_Channel4_Sedan_Hamba');\\n\")\n",
    "                fout.writelines(\"sm_car_config_control_brake('sm_car',0);\\n\")\n",
    "                # Specifing manuever\n",
    "                fout.writelines(\"sm_car_config_maneuver('sm_car','Turn');\\n\")\n",
    "                # Specifing Passengers layout\n",
    "                fout.writelines(f\"Vehicle = sm_car_vehcfg_setPeopleOnOff(Vehicle,{passenger_compination},'SuspA1');\\n\")\n",
    "\n",
    "                fout.writelines(\"nonZeroIndices = (Maneuver.Steer.aWheel.Value ~= 0);\\n\")\n",
    "                fout.writelines(\"Maneuver.Steer.aWheel.Value(nonZeroIndices) = sign(Maneuver.Steer.aWheel.Value(nonZeroIndices))\\n\")\n",
    "                fout.writelines(f\"Maneuver.Steer.aWheel.Value = Maneuver.Steer.aWheel.Value * {round(steering_angle, 4)}\\n\")\n",
    "\n",
    "                fout.writelines(\"nonZeroIndices = (Maneuver.Accel.rPedal.Value ~= 0);\\n\")\n",
    "                fout.writelines(\"Maneuver.Accel.rPedal.Value(nonZeroIndices) = sign(Maneuver.Accel.rPedal.Value(nonZeroIndices))\\n\")\n",
    "                fout.writelines(f\"Maneuver.Accel.rPedal.Value = Maneuver.Accel.rPedal.Value * {round(acceleration_pedal_pos, 4)}\\n\")\n",
    "                fout.writelines(f\"accl_v = Maneuver.Accel.rPedal.Value;\\n\")\n",
    "                fout.writelines(f\"ster_v = Maneuver.Steer.aWheel.Value;\\n\")\n",
    "\n",
    "                fout.writelines(f\"fprintf(log_file, '[%.1f, %.1f, %.4f, %.4f, %.1f, %.1f]\\\\n', accl_v);\\n\")\n",
    "                fout.writelines(f\"fprintf(log_file, '[%.1f, %.1f, %.4f, %.4f, %.1f, %.1f]\\\\n', ster_v);\\n\")\n",
    "\n",
    "                fout.writelines(\"sim(mdl)\\n\")\n",
    "                fout.writelines(\"pause(30)\\n\\n\")\n",
    "\n",
    "        fout.writelines(\"fclose(log_file);\")\n"
   ]
  }
 ],
 "metadata": {
  "kernelspec": {
   "display_name": "Python 3",
   "language": "python",
   "name": "python3"
  },
  "language_info": {
   "codemirror_mode": {
    "name": "ipython",
    "version": 3
   },
   "file_extension": ".py",
   "mimetype": "text/x-python",
   "name": "python",
   "nbconvert_exporter": "python",
   "pygments_lexer": "ipython3",
   "version": "3.9.7"
  },
  "orig_nbformat": 4
 },
 "nbformat": 4,
 "nbformat_minor": 2
}
