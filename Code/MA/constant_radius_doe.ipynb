{
 "cells": [
  {
   "cell_type": "markdown",
   "metadata": {},
   "source": [
    "# Motors"
   ]
  },
  {
   "cell_type": "code",
   "execution_count": 27,
   "metadata": {},
   "outputs": [],
   "source": [
    "# Vehicle = sm_car_vehcfg_setPower(Vehicle,'Ideal_A1_A2_default');\n",
    "# Vehicle = sm_car_vehcfg_setPowerCooling(Vehicle,'None');"
   ]
  },
  {
   "cell_type": "markdown",
   "metadata": {},
   "source": [
    "<hr>"
   ]
  },
  {
   "cell_type": "markdown",
   "metadata": {},
   "source": [
    "# Passengers configurations"
   ]
  },
  {
   "cell_type": "code",
   "execution_count": 28,
   "metadata": {},
   "outputs": [],
   "source": [
    "# Vehicle = sm_car_vehcfg_setPeopleOnOff(Vehicle,[1 1 0 0 0],'SuspA1');"
   ]
  },
  {
   "cell_type": "markdown",
   "metadata": {},
   "source": [
    "<hr>"
   ]
  },
  {
   "cell_type": "markdown",
   "metadata": {},
   "source": [
    "# adjusting the linearity of the dampers and springes"
   ]
  },
  {
   "cell_type": "code",
   "execution_count": 29,
   "metadata": {},
   "outputs": [],
   "source": [
    "# Vehicle = sm_car_vehcfg_setSpring(Vehicle,'Axle2_Independent','SHLnonlinA1_SHLnonlinA2_None');\n",
    "# Vehicle = sm_car_vehcfg_setDamper(Vehicle,'Axle2_Independent','SHLnonlinA1_SHLnonlinA2_None');"
   ]
  },
  {
   "cell_type": "markdown",
   "metadata": {},
   "source": [
    "<hr>"
   ]
  },
  {
   "cell_type": "markdown",
   "metadata": {},
   "source": [
    "# Configure Vehicle"
   ]
  },
  {
   "cell_type": "code",
   "execution_count": 30,
   "metadata": {},
   "outputs": [],
   "source": [
    "# sm_car_config_vehicle('sm_car');"
   ]
  },
  {
   "cell_type": "markdown",
   "metadata": {},
   "source": [
    "<hr>"
   ]
  },
  {
   "cell_type": "code",
   "execution_count": 31,
   "metadata": {},
   "outputs": [],
   "source": [
    "# sm_car_config_maneuver('sm_car','WOT Braking');\n",
    "# sm_car_config_maneuver('sm_car','Low Speed Steer');\n",
    "# sm_car_config_maneuver('sm_car','Turn');\n",
    "# sm_car_config_maneuver('sm_car','Straight Constant Speed');\n",
    "# sm_car_config_maneuver('sm_car','Constant Radius Closed-Loop');\n",
    "# sm_car_config_maneuver('sm_car','Double Lane Change');\n",
    "# sm_car_config_maneuver('sm_car','Double Lane Change ISO3888');"
   ]
  },
  {
   "cell_type": "markdown",
   "metadata": {},
   "source": [
    "<hr>"
   ]
  },
  {
   "cell_type": "markdown",
   "metadata": {},
   "source": [
    "# Run Simulation"
   ]
  },
  {
   "cell_type": "code",
   "execution_count": 32,
   "metadata": {},
   "outputs": [],
   "source": [
    "# sim(mdl)"
   ]
  },
  {
   "cell_type": "markdown",
   "metadata": {},
   "source": [
    "<hr>"
   ]
  },
  {
   "cell_type": "markdown",
   "metadata": {},
   "source": [
    "# Target Speed along Trajectory"
   ]
  },
  {
   "cell_type": "code",
   "execution_count": null,
   "metadata": {},
   "outputs": [],
   "source": [
    "x = [0, 25, 45, ....., 422]\n",
    "v = [1, 1, , 7, ....., 20 ]\n",
    "slope = 13/372\n",
    "# line_eqn\n",
    "for x in range()\n",
    "y = 13/272 * x + 7"
   ]
  },
  {
   "cell_type": "markdown",
   "metadata": {},
   "source": [
    "# equation of a circle"
   ]
  },
  {
   "cell_type": "code",
   "execution_count": 50,
   "metadata": {},
   "outputs": [
    {
     "data": {
      "image/png": "[encoded data removed]",
      "text/plain": [
       "<Figure size 2000x600 with 1 Axes>"
      ]
     },
     "metadata": {},
     "output_type": "display_data"
    }
   ],
   "source": [
    "import matplotlib.pyplot as plt\n",
    "import numpy as np\n",
    "\n",
    "# Specify the radius 'r'\n",
    "r = 15  # Replace with your desired radius\n",
    "num_points = 25\n",
    "# Create an array of angles from 0 to 2*pi (360 degrees)\n",
    "theta = np.linspace(0, 2*np.pi, num_points)\n",
    "\n",
    "# Calculate the x and y coordinates for the points on the circle\n",
    "x1 = [-50, -25, -5]\n",
    "y1 = [0, 0, 0]\n",
    "x2 = r * np.cos(theta)\n",
    "y2 = r * np.sin(theta) + r\n",
    "x3 = [x for x in range(50)]  # Shift the y-coordinates by 'r' to place the center at (0, r)\n",
    "y3 = [0 for x in range(50)]  # Shift the y-coordinates by 'r' to place the center at (0, r)\n",
    "x1.extend(x2)\n",
    "x1.extend(x3)\n",
    "y1.extend(y2)\n",
    "y1.extend(y3)\n",
    "X = x1\n",
    "Y = y1\n",
    "# Create the plot\n",
    "plt.figure(figsize=(20, 6))  # Optional: Set the figure size\n",
    "plt.scatter(X, Y)\n",
    "\n",
    "# Add labels and a title\n",
    "plt.xlabel('X-axis')\n",
    "plt.ylabel('Y-axis')\n",
    "plt.title('Circle Plot')\n",
    "# Specify the scale for the x-axis and y-axis\n",
    "plt.xlim(-50, 50)\n",
    "plt.ylim(-20, 50)\n",
    "# Set equal aspect ratio to ensure the circle looks circular\n",
    "plt.gca().set_aspect('equal')\n",
    "\n",
    "# Display the plot\n",
    "plt.grid(True)\n",
    "plt.show()\n"
   ]
  },
  {
   "cell_type": "code",
   "execution_count": 53,
   "metadata": {},
   "outputs": [
    {
     "data": {
      "text/plain": [
       "[-50,\n",
       " -25,\n",
       " -5,\n",
       " 15.0,\n",
       " 14.488887394336025,\n",
       " 12.99038105676658,\n",
       " 10.606601717798213,\n",
       " 7.500000000000002,\n",
       " 3.8822856765378146,\n",
       " 9.18485099360515e-16,\n",
       " -3.8822856765378093,\n",
       " -7.4999999999999964,\n",
       " -10.606601717798211,\n",
       " -12.990381056766577,\n",
       " -14.488887394336023,\n",
       " -15.0,\n",
       " -14.488887394336027,\n",
       " -12.990381056766582,\n",
       " -10.606601717798219,\n",
       " -7.500000000000007,\n",
       " -3.8822856765378226,\n",
       " -2.7554552980815444e-15,\n",
       " 3.8822856765378044,\n",
       " 7.49999999999999,\n",
       " 10.60660171779821,\n",
       " 12.990381056766577,\n",
       " 14.488887394336022,\n",
       " 15.0,\n",
       " 0,\n",
       " 1,\n",
       " 2,\n",
       " 3,\n",
       " 4,\n",
       " 5,\n",
       " 6,\n",
       " 7,\n",
       " 8,\n",
       " 9,\n",
       " 10,\n",
       " 11,\n",
       " 12,\n",
       " 13,\n",
       " 14,\n",
       " 15,\n",
       " 16,\n",
       " 17,\n",
       " 18,\n",
       " 19,\n",
       " 20,\n",
       " 21,\n",
       " 22,\n",
       " 23,\n",
       " 24,\n",
       " 25,\n",
       " 26,\n",
       " 27,\n",
       " 28,\n",
       " 29,\n",
       " 30,\n",
       " 31,\n",
       " 32,\n",
       " 33,\n",
       " 34,\n",
       " 35,\n",
       " 36,\n",
       " 37,\n",
       " 38,\n",
       " 39,\n",
       " 40,\n",
       " 41,\n",
       " 42,\n",
       " 43,\n",
       " 44,\n",
       " 45,\n",
       " 46,\n",
       " 47,\n",
       " 48,\n",
       " 49]"
      ]
     },
     "execution_count": 53,
     "metadata": {},
     "output_type": "execute_result"
    }
   ],
   "source": [
    "X"
   ]
  },
  {
   "cell_type": "code",
   "execution_count": 52,
   "metadata": {},
   "outputs": [
    {
     "data": {
      "text/plain": [
       "78"
      ]
     },
     "execution_count": 52,
     "metadata": {},
     "output_type": "execute_result"
    }
   ],
   "source": [
    "3.88228567653781\t7.50000000000000\t10.6066017177982\t12.9903810567666\t14.4888873943360\t15\t14.4888873943360\t12.9903810567666\t10.6066017177982\t7.50000000000000\t3.88228567653781\t0\t-3.88228567653781\t-7.50000000000000\t-10.6066017177982\t-12.9903810567666\t-14.4888873943360\t-15\t-14.4888873943360\t-12.9903810567666\t-10.6066017177982\t-7.50000000000000\t-3.88228567653781\t0\t3.88228567653781\t7.50000000000000\t10.6066017177982\t12.9903810567666\t14.4888873943360\t15\t14.4888873943360\t12.9903810567666\t10.6066017177982\t7.50000000000000\t3.88228567653781\t0\t-3.88228567653781\t-7.50000000000000\t-10.6066017177982\t-12.9903810567666\t-14.4888873943360\t-15\t-14.4888873943360\t-12.9903810567666\t-10.6066017177982\t-7.50000000000000\t-3.88228567653781\t0\t3.88228567653781\t7.50000000000000\t10.6066017177982\t12.9903810567666\t14.4888873943360\t15\t14.4888873943360\t12.9903810567666\t10.6066017177982\t7.50000000000000\t3.88228567653781\t0\t-3.88228567653781\t-7.50000000000000\t-10.6066017177982\t-12.9903810567666\t-14.4888873943360\t-15\t-14.4888873943360\t-12.9903810567666\t-10.6066017177982\t-7.50000000000000\t-3.88228567653781\t0\t3.88228567653781\t7.50000000000000\t10.6066017177982\t12.9903810567666\t14.4888873943360\t15\t14.4888873943360\t12.9903810567666\t10.6066017177982\t7.50000000000000\t3.88228567653781\t0\t-3.88228567653781\t-7.50000000000000\t-10.6066017177982\t-12.9903810567666\t-14.4888873943360\t-15\t-14.4888873943360\t-12.9903810567666\t-10.6066017177982\t-7.50000000000000\t-3.88228567653781\t0\t1\t2\t3\t4\t5\t6\t7\t8\t9\t10\t11\t12\t13\t14\t15\t16\t17\t18\t19\t20\t21\t22\t23\t24\t25\t26\t27\t28\t29\t30\t31\t32\t33\t34\t35\t36\t37\t38\t39\t40\t41\t42\t43\t44\t45\t46\t47\t48\t49\t50]"
   ]
  },
  {
   "cell_type": "code",
   "execution_count": 33,
   "metadata": {},
   "outputs": [],
   "source": [
    "# driver FL_FR_RL_RR\n",
    "Passengers_map = {'[1 1 0 0 0]':'FL',\n",
    "                  '[1 1 1 0 0]':'FL_FR',\n",
    "                  '[1 1 0 1 0]':'FL_RL',\n",
    "                  '[1 1 0 0 1]':'FL_RR',\n",
    "                  '[1 1 1 1 0]':'FL_FR_RL',\n",
    "                  '[1 1 1 0 1]':'FL_FR_RR',\n",
    "                  '[1 1 0 1 1]':'FL_RL_RR',\n",
    "                  '[1 1 1 1 1]':'FL_FR_RL_RR'}\n",
    "\n",
    "Maneuvers_m = [\"'Double Lane Change'\", \"'WOT Braking'\", \"'Low Speed Steer'\", \"'Turn'\", \"'Straight Constant Speed'\", \"'Constant Radius Closed-Loop'\", \"'Double Lane Change ISO3888'\"]"
   ]
  },
  {
   "cell_type": "markdown",
   "metadata": {},
   "source": [
    "we need to manually excecute the command by mouse in matlab to know what line of code is scripted in the interactive shell of matlab\n",
    "we then take this line and modify it to\n",
    "the following script creates a full factorial desing of experiment and it exports it in a form .m script file that should be excecuted in matlab"
   ]
  },
  {
   "cell_type": "markdown",
   "metadata": {},
   "source": [
    "<hr>"
   ]
  },
  {
   "cell_type": "markdown",
   "metadata": {},
   "source": [
    "# Generate .txt file with name of all samples"
   ]
  },
  {
   "cell_type": "code",
   "execution_count": 34,
   "metadata": {},
   "outputs": [],
   "source": [
    "# i = 0\n",
    "# with open('names_of_files.txt', 'w') as fout:\n",
    "#         for passenger_compination in Passengers_map.keys():\n",
    "#             m = 'low_spd_ster'\n",
    "#             sample=f'{i}_{m}_{Passengers_map[passenger_compination]}_{Accel_pedal}_{}\\n'\n",
    "#             #print(sample)\n",
    "#             fout.writelines(sample)\n",
    "#             i +=1"
   ]
  },
  {
   "cell_type": "code",
   "execution_count": 35,
   "metadata": {},
   "outputs": [],
   "source": [
    "import numpy as np\n",
    "from pyDOE2 import lhs\n",
    "\n",
    "def latin_hypercube_sampling(n, ranges):\n",
    "    num_vars = len(ranges)\n",
    "    samples = lhs(num_vars, samples=n)\n",
    "    for i in range(num_vars):\n",
    "        lower_bound, upper_bound = ranges[i]\n",
    "        samples[:, i] = samples[:, i] * (upper_bound - lower_bound) + lower_bound\n",
    "    return samples\n",
    "\n",
    "# Define the ranges for each variable\n",
    "# Acceleration_Pedal_Pos_range = (0, 1)\n",
    "# Steering_Angle_range = (-2, 2)\n",
    "\n",
    "# # Combine the ranges into a list\n",
    "# ranges = [Acceleration_Pedal_Pos_range, Steering_Angle_range]\n",
    "\n",
    "# # Number of sample points\n",
    "# n = 50  # You can adjust this to the desired number of samples\n",
    "\n",
    "# # Generate the Latin Hypercube samples\n",
    "# lhs_samples = latin_hypercube_sampling(n, ranges)\n",
    "\n",
    "# # Print the generated samples\n",
    "# for i, sample in enumerate(lhs_samples):\n",
    "#     print(f'Sample {i + 1}: Acceleration_Pedal_Pos = {sample[0]}, Steering_Angle = {sample[1]}')\n"
   ]
  },
  {
   "cell_type": "code",
   "execution_count": 36,
   "metadata": {},
   "outputs": [],
   "source": [
    "# Define the ranges for each variable\n",
    "Acceleration_Pedal_Pos_range = (0, 0.5)\n",
    "Steering_Angle_range = (-0.7, 0.7)\n",
    "\n",
    "# Combine the ranges into a list\n",
    "ranges = [Acceleration_Pedal_Pos_range, Steering_Angle_range]\n",
    "\n",
    "# Number of sample points\n",
    "n = 50  # You can adjust this to the desired number of samples\n",
    "\n",
    "# Generate the Latin Hypercube samples\n",
    "lhs_samples = latin_hypercube_sampling(n, ranges)"
   ]
  },
  {
   "cell_type": "code",
   "execution_count": 37,
   "metadata": {},
   "outputs": [],
   "source": [
    "# i = 0\n",
    "# with open('names_of_files.txt', 'w') as fout:\n",
    "#         for passenger_compination in Passengers_map.keys():\n",
    "#             m = 'low_spd_ster'\n",
    "#             sample=f'{i}_{m}_{Passengers_map[passenger_compination]}_{Accel_pedal}_{}\\n'\n",
    "#             #print(sample)\n",
    "#             fout.writelines(sample)\n",
    "#             i +=1"
   ]
  },
  {
   "cell_type": "code",
   "execution_count": 38,
   "metadata": {},
   "outputs": [],
   "source": [
    "# # we have 17 second \n",
    "# Maneuver.Brake.t.Value\n",
    "# Maneuver.Brake.rPedal.Value\n",
    "\n",
    "# Maneuver.Steer.t.Value\n",
    "# Maneuver.Steer.aWheel.Value\n",
    "\n",
    "# Maneuver.Accel.t.Value  \n",
    "# Maneuver.Accel.rPedal.Value"
   ]
  },
  {
   "cell_type": "markdown",
   "metadata": {},
   "source": [
    "<hr>"
   ]
  },
  {
   "cell_type": "markdown",
   "metadata": {},
   "source": [
    "# Generate Matlab Design of experiment script.m file"
   ]
  },
  {
   "cell_type": "code",
   "execution_count": 39,
   "metadata": {},
   "outputs": [],
   "source": [
    "i = 0\n",
    "with open('names_of_files.txt', 'w') as fout_1:\n",
    "    m = 'low_spd_ster'\n",
    "    for passenger_compination, passenger_compination_str in Passengers_map.items():\n",
    "        lhs_samples = latin_hypercube_sampling(n, ranges)\n",
    "        i += 1\n",
    "        with open(f\"doe_matlab_script_{i}_{passenger_compination_str}.m\", \"w\") as fout:\n",
    "            for sample in lhs_samples:\n",
    "                acceleration_pedal_pos = sample[0]\n",
    "                steering_angle = sample[1]\n",
    "                # writing the name of the sample in a seperate file to rename it later\n",
    "                sample=f'{passenger_compination_str}_accl_{acceleration_pedal_pos}_str_{steering_angle}\\n'\n",
    "                fout_1.writelines(sample)\n",
    "                fout.writelines(\"mdl = 'sm_car';\\n\")\n",
    "                fout.writelines(\"Vehicle = sm_car_vehcfg_setBrakes(Vehicle,'Axle2_HydraulicValves_Channel4_Sedan_Hamba');\\n\")\n",
    "                fout.writelines(\"sm_car_config_control_brake('sm_car',0);\\n\")\n",
    "                fout.writelines(\"Vehicle = sm_car_vehcfg_setSpring(Vehicle,'Axle2_Independent','SHLnonlinA1_SHLnonlinA2_None');\\n\")\n",
    "                fout.writelines(\"Vehicle = sm_car_vehcfg_setDamper(Vehicle,'Axle2_Independent','SHLnonlinA1_SHLnonlinA2_None');\\n\")\n",
    "                fout.writelines(\"sm_car_config_maneuver('sm_car','Low Speed Steer');\\n\")\n",
    "                fout.writelines(f\"Vehicle = sm_car_vehcfg_setPeopleOnOff(Vehicle,{passenger_compination},'SuspA1');\\n\")\n",
    "\n",
    "                fout.writelines(\"nonZeroIndices = (Maneuver.Steer.aWheel.Value ~= 0);\\n\")\n",
    "                fout.writelines(\"Maneuver.Steer.aWheel.Value(nonZeroIndices) = sign(Maneuver.Steer.aWheel.Value(nonZeroIndices))\\n\")\n",
    "                fout.writelines(f\"Maneuver.Steer.aWheel.Value = Maneuver.Steer.aWheel.Value * {steering_angle}\\n\")\n",
    "\n",
    "                fout.writelines(\"nonZeroIndices = (Maneuver.Accel.rPedal.Value ~= 0);\\n\")\n",
    "                fout.writelines(\"Maneuver.Accel.rPedal.Value(nonZeroIndices) = sign(Maneuver.Accel.rPedal.Value(nonZeroIndices))\\n\")\n",
    "                fout.writelines(f\"Maneuver.Accel.rPedal.Value = Maneuver.Accel.rPedal.Value * {acceleration_pedal_pos}\\n\")\n",
    "\n",
    "                fout.writelines(f\"Maneuver.Accel.rPedal.Value\\n\")\n",
    "                fout.writelines(f\"Maneuver.Steer.aWheel.Value\\n\")\n",
    "\n",
    "                fout.writelines(\"sim(mdl)\\n\")\n",
    "                fout.writelines(\"pause(60)\\n\\n\")"
   ]
  }
 ],
 "metadata": {
  "kernelspec": {
   "display_name": "Python 3",
   "language": "python",
   "name": "python3"
  },
  "language_info": {
   "codemirror_mode": {
    "name": "ipython",
    "version": 3
   },
   "file_extension": ".py",
   "mimetype": "text/x-python",
   "name": "python",
   "nbconvert_exporter": "python",
   "pygments_lexer": "ipython3",
   "version": "3.9.7"
  },
  "orig_nbformat": 4
 },
 "nbformat": 4,
 "nbformat_minor": 2
}
