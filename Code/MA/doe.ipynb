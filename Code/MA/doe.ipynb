{
 "cells": [
  {
   "cell_type": "markdown",
   "metadata": {},
   "source": [
    "# Motors"
   ]
  },
  {
   "cell_type": "code",
   "execution_count": 1,
   "metadata": {},
   "outputs": [],
   "source": [
    "# Vehicle = sm_car_vehcfg_setPower(Vehicle,'Ideal_A1_A2_default');\n",
    "# Vehicle = sm_car_vehcfg_setPowerCooling(Vehicle,'None');"
   ]
  },
  {
   "cell_type": "markdown",
   "metadata": {},
   "source": [
    "<hr>"
   ]
  },
  {
   "cell_type": "markdown",
   "metadata": {},
   "source": [
    "# Passengers configurations"
   ]
  },
  {
   "cell_type": "code",
   "execution_count": 2,
   "metadata": {},
   "outputs": [],
   "source": [
    "# Vehicle = sm_car_vehcfg_setPeopleOnOff(Vehicle,[1 1 0 0 0],'SuspA1');"
   ]
  },
  {
   "cell_type": "markdown",
   "metadata": {},
   "source": [
    "<hr>"
   ]
  },
  {
   "cell_type": "markdown",
   "metadata": {},
   "source": [
    "# adjusting the linearity of the dampers and springes"
   ]
  },
  {
   "cell_type": "code",
   "execution_count": 3,
   "metadata": {},
   "outputs": [],
   "source": [
    "# Vehicle = sm_car_vehcfg_setSpring(Vehicle,'Axle2_Independent','SHLnonlinA1_SHLnonlinA2_None');\n",
    "# Vehicle = sm_car_vehcfg_setDamper(Vehicle,'Axle2_Independent','SHLnonlinA1_SHLnonlinA2_None');"
   ]
  },
  {
   "cell_type": "markdown",
   "metadata": {},
   "source": [
    "<hr>"
   ]
  },
  {
   "cell_type": "markdown",
   "metadata": {},
   "source": [
    "# Configure Vehicle"
   ]
  },
  {
   "cell_type": "code",
   "execution_count": 4,
   "metadata": {},
   "outputs": [],
   "source": [
    "# sm_car_config_vehicle('sm_car');"
   ]
  },
  {
   "cell_type": "markdown",
   "metadata": {},
   "source": [
    "<hr>"
   ]
  },
  {
   "cell_type": "code",
   "execution_count": 5,
   "metadata": {},
   "outputs": [],
   "source": [
    "# sm_car_config_maneuver('sm_car','WOT Braking');\n",
    "# sm_car_config_maneuver('sm_car','Low Speed Steer');\n",
    "# sm_car_config_maneuver('sm_car','Turn');\n",
    "# sm_car_config_maneuver('sm_car','Straight Constant Speed');\n",
    "# sm_car_config_maneuver('sm_car','Constant Radius Closed-Loop');\n",
    "# sm_car_config_maneuver('sm_car','Double Lane Change');\n",
    "# sm_car_config_maneuver('sm_car','Double Lane Change ISO3888');"
   ]
  },
  {
   "cell_type": "markdown",
   "metadata": {},
   "source": [
    "<hr>"
   ]
  },
  {
   "cell_type": "markdown",
   "metadata": {},
   "source": [
    "# Run Simulation"
   ]
  },
  {
   "cell_type": "code",
   "execution_count": 6,
   "metadata": {},
   "outputs": [],
   "source": [
    "# sim(mdl)"
   ]
  },
  {
   "cell_type": "markdown",
   "metadata": {},
   "source": [
    "<hr>"
   ]
  },
  {
   "cell_type": "code",
   "execution_count": 2,
   "metadata": {},
   "outputs": [],
   "source": [
    "# driver FL_FR_RL_RR\n",
    "Passengers_map = {'[1 1 0 0 0]':'FL',\n",
    "                  '[1 1 1 0 0]':'FL_FR',\n",
    "                  '[1 1 0 1 0]':'FL_RL',\n",
    "                  '[1 1 0 0 1]':'FL_RR',\n",
    "                  '[1 1 1 1 0]':'FL_FR_RL',\n",
    "                  '[1 1 1 0 1]':'FL_FR_RR',\n",
    "                  '[1 1 0 1 1]':'FL_RL_RR',\n",
    "                  '[1 1 1 1 1]':'FL_FR_RL_RR'}\n",
    "\n",
    "Maneuvers_m = [\"'Double Lane Change'\", \"'WOT Braking'\", \"'Low Speed Steer'\", \"'Turn'\", \"'Straight Constant Speed'\", \"'Constant Radius Closed-Loop'\", \"'Double Lane Change ISO3888'\"]"
   ]
  },
  {
   "cell_type": "markdown",
   "metadata": {},
   "source": [
    "we need to manually excecute the command by mouse in matlab to know what line of code is scripted in the interactive shell of matlab\n",
    "we then take this line and modify it to\n",
    "the following script creates a full factorial desing of experiment and it exports it in a form .m script file that should be excecuted in matlab"
   ]
  },
  {
   "cell_type": "markdown",
   "metadata": {},
   "source": [
    "<hr>"
   ]
  },
  {
   "cell_type": "markdown",
   "metadata": {},
   "source": [
    "# Generate .txt file with name of all samples"
   ]
  },
  {
   "cell_type": "code",
   "execution_count": 3,
   "metadata": {},
   "outputs": [],
   "source": [
    "i = 0\n",
    "with open('names_of_files.txt', 'w') as fout:\n",
    "    for Maneuver in Maneuvers_m:\n",
    "        for passenger_compination in Passengers_map.keys():\n",
    "            m = Maneuver.replace('\"','').replace(' ','').replace(\"'\",\"\")\n",
    "            sample=f'{i}_{m}_ABS_{Passengers_map[passenger_compination]}\\n'\n",
    "            #print(sample)\n",
    "            fout.writelines(sample)\n",
    "            i +=1"
   ]
  },
  {
   "cell_type": "markdown",
   "metadata": {},
   "source": [
    "# Generate Matlab Design of experiment script.m file"
   ]
  },
  {
   "cell_type": "code",
   "execution_count": 9,
   "metadata": {},
   "outputs": [],
   "source": [
    "i = 0\n",
    "with open(\"doe_matlab_script.m\", \"w\") as fout:\n",
    "    for Maneuver in Maneuvers_m:\n",
    "        for passenger_compination in Passengers_map.keys():\n",
    "            fout.writelines(\"mdl = 'sm_car';\\n\")\n",
    "            fout.writelines(\"sm_car_config_control_brake('sm_car',1);\\n\")\n",
    "            fout.writelines(\"Vehicle = sm_car_vehcfg_setSpring(Vehicle,'Axle2_Independent','SHLnonlinA1_SHLnonlinA2_None');\\n\")\n",
    "            fout.writelines(\"Vehicle = sm_car_vehcfg_setDamper(Vehicle,'Axle2_Independent','SHLnonlinA1_SHLnonlinA2_None');\\n\")\n",
    "            fout.writelines(f\"sm_car_config_maneuver('sm_car',{Maneuver});\\n\")\n",
    "            fout.writelines(f\"Vehicle = sm_car_vehcfg_setPeopleOnOff(Vehicle,{passenger_compination},'SuspA1');\\n\")\n",
    "            fout.writelines(\"sim(mdl)\\n\")\n",
    "            fout.writelines(\"pause(60)\\n\\n\")\n",
    "            i +=1"
   ]
  }
 ],
 "metadata": {
  "kernelspec": {
   "display_name": "Python 3",
   "language": "python",
   "name": "python3"
  },
  "language_info": {
   "codemirror_mode": {
    "name": "ipython",
    "version": 3
   },
   "file_extension": ".py",
   "mimetype": "text/x-python",
   "name": "python",
   "nbconvert_exporter": "python",
   "pygments_lexer": "ipython3",
   "version": "3.9.7"
  },
  "orig_nbformat": 4
 },
 "nbformat": 4,
 "nbformat_minor": 2
}
